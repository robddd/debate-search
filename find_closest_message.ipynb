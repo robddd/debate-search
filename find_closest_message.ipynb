{
 "cells": [
  {
   "cell_type": "code",
   "execution_count": 1,
   "id": "2d707090",
   "metadata": {},
   "outputs": [
    {
     "name": "stderr",
     "output_type": "stream",
     "text": [
      "The cache for model files in Transformers v4.22.0 has been updated. Migrating your old cache. This is a one-time only operation. You can interrupt this and resume the migration later on by calling `transformers.utils.move_cache()`.\n"
     ]
    },
    {
     "name": "stdout",
     "output_type": "stream",
     "text": [
      "Moving 0 files to the new cache system\n"
     ]
    },
    {
     "data": {
      "application/vnd.jupyter.widget-view+json": {
       "model_id": "9c9dde4ddefd46d3bfe5bdd415f88099",
       "version_major": 2,
       "version_minor": 0
      },
      "text/plain": [
       "0it [00:00, ?it/s]"
      ]
     },
     "metadata": {},
     "output_type": "display_data"
    }
   ],
   "source": [
    "import time\n",
    "\n",
    "from sentence_transformers import SentenceTransformer, CrossEncoder, util\n",
    "import torch\n",
    "import pickle\n",
    "import pandas as pd"
   ]
  },
  {
   "cell_type": "code",
   "execution_count": 2,
   "id": "d989584a",
   "metadata": {},
   "outputs": [
    {
     "data": {
      "application/vnd.jupyter.widget-view+json": {
       "model_id": "34e4a4ac43d54c548a8bfa781543b9fb",
       "version_major": 2,
       "version_minor": 0
      },
      "text/plain": [
       "Downloading:   0%|          | 0.00/737 [00:00<?, ?B/s]"
      ]
     },
     "metadata": {},
     "output_type": "display_data"
    },
    {
     "data": {
      "application/vnd.jupyter.widget-view+json": {
       "model_id": "92ed62cd9f3140e8b1f7186a20833665",
       "version_major": 2,
       "version_minor": 0
      },
      "text/plain": [
       "Downloading:   0%|          | 0.00/190 [00:00<?, ?B/s]"
      ]
     },
     "metadata": {},
     "output_type": "display_data"
    },
    {
     "data": {
      "application/vnd.jupyter.widget-view+json": {
       "model_id": "de6eee1e71c040c39b50a96e9004f6ef",
       "version_major": 2,
       "version_minor": 0
      },
      "text/plain": [
       "Downloading:   0%|          | 0.00/11.5k [00:00<?, ?B/s]"
      ]
     },
     "metadata": {},
     "output_type": "display_data"
    },
    {
     "data": {
      "application/vnd.jupyter.widget-view+json": {
       "model_id": "5c9fc5aa3b124aadab89afd76601a286",
       "version_major": 2,
       "version_minor": 0
      },
      "text/plain": [
       "Downloading:   0%|          | 0.00/612 [00:00<?, ?B/s]"
      ]
     },
     "metadata": {},
     "output_type": "display_data"
    },
    {
     "data": {
      "application/vnd.jupyter.widget-view+json": {
       "model_id": "29fa1f2a23e5476f9bd99b8bda04df1d",
       "version_major": 2,
       "version_minor": 0
      },
      "text/plain": [
       "Downloading:   0%|          | 0.00/116 [00:00<?, ?B/s]"
      ]
     },
     "metadata": {},
     "output_type": "display_data"
    },
    {
     "data": {
      "application/vnd.jupyter.widget-view+json": {
       "model_id": "76a857ad4d1d44349e89f05ad82ac69a",
       "version_major": 2,
       "version_minor": 0
      },
      "text/plain": [
       "Downloading:   0%|          | 0.00/25.5k [00:00<?, ?B/s]"
      ]
     },
     "metadata": {},
     "output_type": "display_data"
    },
    {
     "data": {
      "application/vnd.jupyter.widget-view+json": {
       "model_id": "09cbd412ce0b4eae964bcd2c43c86d02",
       "version_major": 2,
       "version_minor": 0
      },
      "text/plain": [
       "Downloading:   0%|          | 0.00/90.9M [00:00<?, ?B/s]"
      ]
     },
     "metadata": {},
     "output_type": "display_data"
    },
    {
     "data": {
      "application/vnd.jupyter.widget-view+json": {
       "model_id": "40177647d6a34c47a9e7564c5a23b812",
       "version_major": 2,
       "version_minor": 0
      },
      "text/plain": [
       "Downloading:   0%|          | 0.00/53.0 [00:00<?, ?B/s]"
      ]
     },
     "metadata": {},
     "output_type": "display_data"
    },
    {
     "data": {
      "application/vnd.jupyter.widget-view+json": {
       "model_id": "9fe3df35d24e4872b171db6173bab2c3",
       "version_major": 2,
       "version_minor": 0
      },
      "text/plain": [
       "Downloading:   0%|          | 0.00/112 [00:00<?, ?B/s]"
      ]
     },
     "metadata": {},
     "output_type": "display_data"
    },
    {
     "data": {
      "application/vnd.jupyter.widget-view+json": {
       "model_id": "ee43daeb2daa4229baf27871653a39c9",
       "version_major": 2,
       "version_minor": 0
      },
      "text/plain": [
       "Downloading:   0%|          | 0.00/466k [00:00<?, ?B/s]"
      ]
     },
     "metadata": {},
     "output_type": "display_data"
    },
    {
     "data": {
      "application/vnd.jupyter.widget-view+json": {
       "model_id": "d03627f7bba043a9aec79210ca167d5c",
       "version_major": 2,
       "version_minor": 0
      },
      "text/plain": [
       "Downloading:   0%|          | 0.00/383 [00:00<?, ?B/s]"
      ]
     },
     "metadata": {},
     "output_type": "display_data"
    },
    {
     "data": {
      "application/vnd.jupyter.widget-view+json": {
       "model_id": "50cf984f7cf84c78b1519183f4f40570",
       "version_major": 2,
       "version_minor": 0
      },
      "text/plain": [
       "Downloading:   0%|          | 0.00/13.8k [00:00<?, ?B/s]"
      ]
     },
     "metadata": {},
     "output_type": "display_data"
    },
    {
     "data": {
      "application/vnd.jupyter.widget-view+json": {
       "model_id": "bf0880ea08c74605a51c92e8d7a41d44",
       "version_major": 2,
       "version_minor": 0
      },
      "text/plain": [
       "Downloading:   0%|          | 0.00/232k [00:00<?, ?B/s]"
      ]
     },
     "metadata": {},
     "output_type": "display_data"
    },
    {
     "data": {
      "application/vnd.jupyter.widget-view+json": {
       "model_id": "9d77337455c8443293608cf02bfbf230",
       "version_major": 2,
       "version_minor": 0
      },
      "text/plain": [
       "Downloading:   0%|          | 0.00/349 [00:00<?, ?B/s]"
      ]
     },
     "metadata": {},
     "output_type": "display_data"
    },
    {
     "data": {
      "application/vnd.jupyter.widget-view+json": {
       "model_id": "b2213ba2d65641f5b2484fc89afd7bee",
       "version_major": 2,
       "version_minor": 0
      },
      "text/plain": [
       "Downloading:   0%|          | 0.00/794 [00:00<?, ?B/s]"
      ]
     },
     "metadata": {},
     "output_type": "display_data"
    },
    {
     "data": {
      "application/vnd.jupyter.widget-view+json": {
       "model_id": "e681aceafc024ee5acfe8c4f23a67056",
       "version_major": 2,
       "version_minor": 0
      },
      "text/plain": [
       "Downloading:   0%|          | 0.00/90.9M [00:00<?, ?B/s]"
      ]
     },
     "metadata": {},
     "output_type": "display_data"
    },
    {
     "data": {
      "application/vnd.jupyter.widget-view+json": {
       "model_id": "9851524634d749acbf5847899d13f97c",
       "version_major": 2,
       "version_minor": 0
      },
      "text/plain": [
       "Downloading:   0%|          | 0.00/316 [00:00<?, ?B/s]"
      ]
     },
     "metadata": {},
     "output_type": "display_data"
    },
    {
     "data": {
      "application/vnd.jupyter.widget-view+json": {
       "model_id": "d9914367011741bcb7ec77408452fb7e",
       "version_major": 2,
       "version_minor": 0
      },
      "text/plain": [
       "Downloading:   0%|          | 0.00/232k [00:00<?, ?B/s]"
      ]
     },
     "metadata": {},
     "output_type": "display_data"
    },
    {
     "data": {
      "application/vnd.jupyter.widget-view+json": {
       "model_id": "5491fe1702cc4f6c81a08cb3d0c446ef",
       "version_major": 2,
       "version_minor": 0
      },
      "text/plain": [
       "Downloading:   0%|          | 0.00/112 [00:00<?, ?B/s]"
      ]
     },
     "metadata": {},
     "output_type": "display_data"
    }
   ],
   "source": [
    "## Load models\n",
    "bi_encoder = SentenceTransformer(\"multi-qa-MiniLM-L6-cos-v1\")\n",
    "cross_encoder = CrossEncoder(\"cross-encoder/ms-marco-MiniLM-L-6-v2\")"
   ]
  },
  {
   "cell_type": "code",
   "execution_count": 5,
   "id": "f8f571c8",
   "metadata": {},
   "outputs": [],
   "source": [
    "\"\"\"\n",
    "How to encode the corpus embeddings???\n",
    "bi_encoder? check that the output looks like the pickled objects below...\n",
    "\"\"\"\n",
    "corpus_embeddings = pd.read_pickle(\"corpus_embeddings_cpu.pkl\")\n",
    "corpus = pd.read_pickle(\"corpus.pkl\")"
   ]
  },
  {
   "cell_type": "code",
   "execution_count": 107,
   "id": "8676d13b",
   "metadata": {},
   "outputs": [],
   "source": [
    "df = pd.read_csv('debates_by_message.csv', low_memory=False)"
   ]
  },
  {
   "cell_type": "code",
   "execution_count": 109,
   "id": "ae7a8fec",
   "metadata": {},
   "outputs": [
    {
     "data": {
      "text/html": [
       "<div>\n",
       "<style scoped>\n",
       "    .dataframe tbody tr th:only-of-type {\n",
       "        vertical-align: middle;\n",
       "    }\n",
       "\n",
       "    .dataframe tbody tr th {\n",
       "        vertical-align: top;\n",
       "    }\n",
       "\n",
       "    .dataframe thead th {\n",
       "        text-align: right;\n",
       "    }\n",
       "</style>\n",
       "<table border=\"1\" class=\"dataframe\">\n",
       "  <thead>\n",
       "    <tr style=\"text-align: right;\">\n",
       "      <th></th>\n",
       "      <th>date</th>\n",
       "      <th>block</th>\n",
       "      <th>speaker</th>\n",
       "      <th>message</th>\n",
       "    </tr>\n",
       "  </thead>\n",
       "  <tbody>\n",
       "    <tr>\n",
       "      <th>0</th>\n",
       "      <td>2020-12-01</td>\n",
       "      <td>0</td>\n",
       "      <td>SPEAKER</td>\n",
       "      <td>No select committee reports have been delivere...</td>\n",
       "    </tr>\n",
       "    <tr>\n",
       "      <th>1</th>\n",
       "      <td>2020-12-01</td>\n",
       "      <td>0</td>\n",
       "      <td>CLERK</td>\n",
       "      <td>Petition of Sophie Handford requesting that th...</td>\n",
       "    </tr>\n",
       "    <tr>\n",
       "      <th>2</th>\n",
       "      <td>2020-12-01</td>\n",
       "      <td>0</td>\n",
       "      <td>SPEAKER</td>\n",
       "      <td>That petition stands referred to the Petitions...</td>\n",
       "    </tr>\n",
       "    <tr>\n",
       "      <th>3</th>\n",
       "      <td>2020-12-01</td>\n",
       "      <td>0</td>\n",
       "      <td>CLERK</td>\n",
       "      <td>Report in relation to selected non-departmenta...</td>\n",
       "    </tr>\n",
       "    <tr>\n",
       "      <th>4</th>\n",
       "      <td>2020-12-01</td>\n",
       "      <td>0</td>\n",
       "      <td>SPEAKER</td>\n",
       "      <td>Those papers are published under the authority...</td>\n",
       "    </tr>\n",
       "  </tbody>\n",
       "</table>\n",
       "</div>"
      ],
      "text/plain": [
       "         date  block  speaker  \\\n",
       "0  2020-12-01      0  SPEAKER   \n",
       "1  2020-12-01      0    CLERK   \n",
       "2  2020-12-01      0  SPEAKER   \n",
       "3  2020-12-01      0    CLERK   \n",
       "4  2020-12-01      0  SPEAKER   \n",
       "\n",
       "                                             message  \n",
       "0  No select committee reports have been delivere...  \n",
       "1  Petition of Sophie Handford requesting that th...  \n",
       "2  That petition stands referred to the Petitions...  \n",
       "3  Report in relation to selected non-departmenta...  \n",
       "4  Those papers are published under the authority...  "
      ]
     },
     "execution_count": 109,
     "metadata": {},
     "output_type": "execute_result"
    }
   ],
   "source": [
    "df.head()"
   ]
  },
  {
   "cell_type": "code",
   "execution_count": 150,
   "id": "9ae6a139",
   "metadata": {},
   "outputs": [
    {
     "name": "stdout",
     "output_type": "stream",
     "text": [
      "For n = 100 - 2.22 seconds\n",
      "For n = 1000 - 24.45 seconds\n",
      "For n = 2000 - 50.76 seconds\n",
      "For n = 5000 - 130.02 seconds\n"
     ]
    }
   ],
   "source": [
    "for n in [100, 1000, 2000, 5000]:\n",
    "    t0 = time.time()\n",
    "    parliament_embeddings = bi_encoder.encode(df['message'][:n], convert_to_tensor=True)\n",
    "    t = time.time() - t0\n",
    "    print(f'For n = {n} - {t:.2f} seconds')"
   ]
  },
  {
   "cell_type": "code",
   "execution_count": 112,
   "id": "2ced3330",
   "metadata": {},
   "outputs": [
    {
     "data": {
      "text/plain": [
       "torch.Size([100, 384])"
      ]
     },
     "execution_count": 112,
     "metadata": {},
     "output_type": "execute_result"
    }
   ],
   "source": [
    "# parliament_embeddings.shape"
   ]
  },
  {
   "cell_type": "code",
   "execution_count": 161,
   "id": "546a42e6",
   "metadata": {},
   "outputs": [
    {
     "name": "stdout",
     "output_type": "stream",
     "text": [
      "torch.Size([5000, 384]) 5000\n"
     ]
    }
   ],
   "source": [
    "corpus_embeddings = parliament_embeddings\n",
    "corpus = df['message'].fillna('').tolist()[:n]\n",
    "# print(corpus_embeddings.shape, len(corpus))"
   ]
  },
  {
   "cell_type": "code",
   "execution_count": 190,
   "id": "6d798e7a",
   "metadata": {},
   "outputs": [],
   "source": [
    "query = 'crypto currency'\n",
    "top_k = 100\n",
    "\n",
    "question_embedding = bi_encoder.encode(query, convert_to_tensor=True)\n",
    "hits = util.semantic_search(question_embedding, corpus_embeddings, top_k=top_k)\n",
    "hits = hits[0]  # Get the hits for the first query\n",
    "\n",
    "# hits[:5]"
   ]
  },
  {
   "cell_type": "code",
   "execution_count": 191,
   "id": "9b47a2f8",
   "metadata": {},
   "outputs": [],
   "source": [
    "# cross_inp[-5:]"
   ]
  },
  {
   "cell_type": "code",
   "execution_count": 192,
   "id": "9f86e27d",
   "metadata": {},
   "outputs": [],
   "source": [
    "##### Re-Ranking #####\n",
    "# Now, score all retrieved passages with the cross_encoder\n",
    "cross_inp = [[query, corpus[hit['corpus_id']]] for hit in hits]\n",
    "cross_scores = cross_encoder.predict(cross_inp)\n",
    "# cross_scores[:5]"
   ]
  },
  {
   "cell_type": "code",
   "execution_count": 193,
   "id": "1916e895",
   "metadata": {},
   "outputs": [],
   "source": [
    "# Sort results by the cross-encoder scores\n",
    "for idx in range(len(cross_scores)):\n",
    "    hits[idx]['cross-score'] = cross_scores[idx]\n",
    "\n",
    "hits = sorted(hits, key=lambda x: x['cross-score'], reverse=True)\n",
    "\n",
    "ans = []\n",
    "for idx, hit in enumerate(hits[0:5]):\n",
    "    ci = hit['corpus_id']\n",
    "    ans.append(corpus[ci])\n",
    "#     print(f\"\\nOn {df['date'][ci]}:\\n{df['speaker'][ci]}:\\n{corpus[ci]}\")"
   ]
  },
  {
   "cell_type": "code",
   "execution_count": 166,
   "id": "194b045a",
   "metadata": {},
   "outputs": [],
   "source": [
    "# corpus[:5]"
   ]
  },
  {
   "cell_type": "code",
   "execution_count": 194,
   "id": "e7d9bb26",
   "metadata": {},
   "outputs": [],
   "source": [
    "# hits[:5]"
   ]
  },
  {
   "cell_type": "code",
   "execution_count": 169,
   "id": "64f0d869",
   "metadata": {},
   "outputs": [
    {
     "data": {
      "text/plain": [
       "SPEAKER                                      5213\n",
       "Rt Hon JACINDA ARDERN                        2001\n",
       "Hon GRANT ROBERTSON                          1973\n",
       "DEPUTY SPEAKER                               1647\n",
       "Hon CHRIS HIPKINS                            1412\n",
       "DAVID SEYMOUR (Leader—ACT)                   1280\n",
       "CHAIRPERSON (Hon Jenny Salesa)               1228\n",
       "CHAIRPERSON (Hon Jacqui Dean)                1195\n",
       "Hon GRANT ROBERTSON (Minister of Finance)    1155\n",
       "Hon ANDREW LITTLE                            1054\n",
       "Name: speaker, dtype: int64"
      ]
     },
     "execution_count": 169,
     "metadata": {},
     "output_type": "execute_result"
    }
   ],
   "source": [
    "df['speaker'].value_counts()[:10]"
   ]
  },
  {
   "cell_type": "code",
   "execution_count": 173,
   "id": "50198542",
   "metadata": {},
   "outputs": [
    {
     "data": {
      "text/plain": [
       "torch.Size([2, 384])"
      ]
     },
     "execution_count": 173,
     "metadata": {},
     "output_type": "execute_result"
    }
   ],
   "source": [
    "parliament_embeddings[[0, 3], :].shape"
   ]
  },
  {
   "cell_type": "code",
   "execution_count": 189,
   "id": "1b8f8165",
   "metadata": {},
   "outputs": [
    {
     "name": "stdout",
     "output_type": "stream",
     "text": [
      "Getting closest statements from any person\n",
      "torch.Size([5000, 384]) 5000\n",
      "\n",
      "On 2020-07-30:\n",
      "Hon AMY ADAMS:\n",
      "In my three years as justice Minister, it very quickly became clear to me that the best thing we could do to reduce crime was to intervene many, many years before the offenders ever turn up in court. That was the basis of my absolute adoption of the importance of social investment as championed by Sir Bill English. Yes, it's early intervention, but it's so much more and involves radical change to our delivery models if we're going to make progress on the hard intergenerational issues. Last week in her valedictory, the Hon Anne Tolley talked about the work that she and I had led to change the delivery model for family violence and to force agencies to come together to treat it as everyone's problem, not just something for the police. The integrated safety response pilots we set up in Christchurch and the Waikato are embodiments of that, and hearing from those involved that many lives have been saved as a result of that new way of working makes me incredibly proud.\n",
      "\n",
      "On 2021-03-18:\n",
      "Hon MARAMA DAVIDSON:\n",
      "Yes, I absolutely stand behind every word that I discuss on my social media platforms, because, as my previous answer indicated, I am very clear that every person and child deserves to be living in safe situations; that we must address the drivers of crime across the entire community, not just in emergency housing situations; and that if we continue with a narrative that doesn't understand the systemic causes, we will go no further in progressing the reduction of crime.\n",
      "\n",
      "On 2020-07-30:\n",
      "Hon STUART NASH:\n",
      "Under this Government, there has been a 14 percent increase in police numbers nationwide. Seven hundred of these officers are being dedicated to organised crime. To put that increase in the context of reducing the harm from meth, this means that the National Organised Crime Group has now expanded into the districts to help disrupt meth supply. A new dedicated team has been set up in the South Island, and police are looking to set up a new team in the Waikato district. The Pacific Transnational Crime Network has been established, and is co-located with Customs in Auckland. Two United States Drug Enforcement Administration officers are also expected later this year, to further help disrupt the transnational supply of meth and other drugs. There is the establishment of a multi-agency working group that includes New Zealand Customs; the Department of Corrections; the Ministry of Business, Innovation and Employment; and the Institute of Environmental Science and Research (ESR) to deliver this Government's methamphetamine manufacture disruption action plan. This is what is possible when you fund an agency and rebuild their workforce after years of neglect.\n",
      "\n",
      "On 2020-12-01:\n",
      "SIMEON BROWN:\n",
      "The bill will not reduce harm. We've heard lots of arguments—well, not arguments. We've heard lots of slogans. \"This will reduce harm—this will reduce harm.\" It doesn't matter how many times you say it, it doesn't prove it. Actually, we want to see the evidence. At a second reading, we're meant to be considering the submissions from submitters. And as Dr Shane Reti outlined from the departmental statement, the only people consulted on this issue has been KnowYourStuffNZ, the organisation which does and has an interest in this issue. No one else in New Zealand has had their views taken into account, and the departmental statement doesn't even articulate the view that this will even work or that there is any evidence that this will actually work.\n",
      "\n",
      "On 2021-03-24:\n",
      "ANGELA ROBERTS (Labour):\n",
      "Compulsion has consequences. Blunt processes have consequences. There is evidence, and we've heard from many of you in the House who know much more about laws and the academic rigor behind this than I do, but I've done a bit reading, and there is clear evidence. Rather than the gut, the evidence says that while notification doesn't appear to reduce recidivism with regards to sex offenders, it does actually lead to an increase in other offending. When there is a failure of communities to support the successful reintegration of offenders, they are more likely to not be able to form healthy connections, to have a roof over their heads, to get a job, and to actually build or rebuild relationships with their families, with their whānau. It is more likely that their families, that children, will also struggle with social and economic engagement.\n"
     ]
    }
   ],
   "source": [
    "# Choose who said it\n",
    "speaker = None\n",
    "# speaker = 'SPEAKER'\n",
    "# speaker = 'Rt Hon JACINDA ARDERN'\n",
    "# speaker = 'Hon GRANT ROBERTSON'\n",
    "# speaker = 'DEPUTY SPEAKER'\n",
    "# speaker = 'Hon CHRIS HIPKINS'\n",
    "# speaker = 'DAVID SEYMOUR (Leader—ACT)'\n",
    "# speaker = 'Hon ANDREW LITTLE'\n",
    "\n",
    "\n",
    "if speaker is not None:\n",
    "    print(f'Getting closest statements from: {speaker}')\n",
    "    sub_df = df.iloc[:n, :].loc[ df['speaker'] == speaker ].copy()\n",
    "    corpus_embeddings = parliament_embeddings[sub_df.index, :]\n",
    "    corpus = sub_df['message'].fillna('').tolist()\n",
    "else:\n",
    "    print('Getting closest statements from any person')\n",
    "    sub_df = df.iloc[:n, :].copy()\n",
    "    corpus_embeddings = parliament_embeddings\n",
    "    corpus = sub_df['message'].fillna('').tolist() \n",
    "print(corpus_embeddings.shape, len(corpus))\n",
    "\n",
    "query = 'house prices for first home buyers'\n",
    "query = 'rising interest rates'\n",
    "query = 'reducing crime'\n",
    "top_k = 100\n",
    "\n",
    "question_embedding = bi_encoder.encode(query, convert_to_tensor=True)\n",
    "hits = util.semantic_search(question_embedding, corpus_embeddings, top_k=top_k)\n",
    "hits = hits[0]  # Get the hits for the first query\n",
    "\n",
    "# score all retrieved passages with the cross_encoder\n",
    "cross_inp = [[query, corpus[hit['corpus_id']]] for hit in hits]\n",
    "cross_scores = cross_encoder.predict(cross_inp)\n",
    "# cross_scores[:5]\n",
    "\n",
    "# Sort results by the cross-encoder scores\n",
    "for idx in range(len(cross_scores)):\n",
    "    hits[idx]['cross-score'] = cross_scores[idx]\n",
    "\n",
    "hits = sorted(hits, key=lambda x: x['cross-score'], reverse=True)\n",
    "\n",
    "ans = []\n",
    "sub_df = sub_df.reset_index(drop=True)\n",
    "for idx, hit in enumerate(hits[0:5]):\n",
    "    ci = hit['corpus_id']\n",
    "    ans.append(corpus[ci])\n",
    "    print(f\"\\nOn {sub_df['date'][ci]}:\\n{sub_df['speaker'][ci]}:\\n{corpus[ci]}\")"
   ]
  },
  {
   "attachments": {
    "image.png": {
     "image/png": "[encoded data removed]"
    }
   },
   "cell_type": "markdown",
   "id": "4e5f3879",
   "metadata": {},
   "source": [
    "![image.png](attachment:image.png)"
   ]
  },
  {
   "cell_type": "code",
   "execution_count": null,
   "id": "ea6240b3",
   "metadata": {},
   "outputs": [],
   "source": [
    "def search(query, top_k=100):\n",
    "    print(\"Top 5 Answer by the NSE:\")\n",
    "    print()\n",
    "    ans=[]\n",
    "    ##### Sematic Search #####\n",
    "    # Encode the query using the bi-encoder and find potentially relevant passages\n",
    "    question_embedding = bi_encoder.encode(query, convert_to_tensor=True)\n",
    "    hits = util.semantic_search(question_embedding, corpus_embeddings, top_k=top_k)\n",
    "    hits = hits[0]  # Get the hits for the first query\n",
    "\n",
    "    ##### Re-Ranking #####\n",
    "    # Now, score all retrieved passages with the cross_encoder\n",
    "    cross_inp = [[query, corpus[hit['corpus_id']]] for hit in hits]\n",
    "    cross_scores = cross_encoder.predict(cross_inp)\n",
    "\n",
    "    # Sort results by the cross-encoder scores\n",
    "    for idx in range(len(cross_scores)):\n",
    "        hits[idx]['cross-score'] = cross_scores[idx]\n",
    "\n",
    "    hits = sorted(hits, key=lambda x: x['cross-score'], reverse=True)\n",
    "    \n",
    "    for idx, hit in enumerate(hits[0:5]):\n",
    "        ans.append(corpus[hit['corpus_id']])\n",
    "    return ans[0],ans[1],ans[2],ans[3],ans[4]\n",
    "\n",
    "exp=[\"Who is steve jobs?\",\"What is coldplay?\",\"What is a turing test?\",\"What is the most interesting thing about our universe?\",\"What are the most beautiful places on earth?\"]\n",
    "\n",
    "desc=\"This is a semantic search engine powered by SentenceTransformers (Nils_Reimers) with a retrieval and reranking system on Wikipedia corous. This will return the top 5 results. So Quest on with Transformers.\"\n",
    "\n",
    "inp=gr.inputs.Textbox(lines=1, placeholder=None, default=\"\", label=\"search you query here\")\n",
    "out=gr.outputs.Textbox(type=\"auto\",label=\"search results\")\n",
    "\n",
    "iface = gr.Interface(fn=search, inputs=inp, outputs=[out,out,out,out,out],examples=exp,article=desc,title=\"Neural Search Engine\",theme=\"huggingface\",layout='vertical')\n",
    "iface.launch()"
   ]
  }
 ],
 "metadata": {
  "kernelspec": {
   "display_name": "Python 3 (ipykernel)",
   "language": "python",
   "name": "python3"
  },
  "language_info": {
   "codemirror_mode": {
    "name": "ipython",
    "version": 3
   },
   "file_extension": ".py",
   "mimetype": "text/x-python",
   "name": "python",
   "nbconvert_exporter": "python",
   "pygments_lexer": "ipython3",
   "version": "3.8.13"
  }
 },
 "nbformat": 4,
 "nbformat_minor": 5
}
